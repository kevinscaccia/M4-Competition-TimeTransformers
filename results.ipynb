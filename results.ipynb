{
 "cells": [
  {
   "cell_type": "code",
   "execution_count": 3,
   "metadata": {},
   "outputs": [],
   "source": [
    "import pandas as pd\n",
    "import numpy as np\n",
    "from IPython.display import display\n",
    "import json"
   ]
  },
  {
   "cell_type": "code",
   "execution_count": 18,
   "metadata": {},
   "outputs": [
    {
     "name": "stdout",
     "output_type": "stream",
     "text": [
      "sMAPE Hourly: 18.249\n",
      "MASE Hourly: 2.99\n",
      "\n",
      "sMAPE Daily: 3.869\n",
      "MASE Daily: 4.221\n",
      "\n",
      "sMAPE Weekly: 11.983\n",
      "MASE Weekly: 5.96\n",
      "\n",
      "sMAPE Monthly: 32.961\n",
      "MASE Monthly: 2.712\n",
      "\n",
      "sMAPE Quarterly: 25.758\n",
      "MASE Quarterly: 3.657\n",
      "\n",
      "sMAPE Yearly: 41.864\n",
      "MASE Yearly: 14.285\n",
      "\n",
      "sMAPE total: 31.914\n",
      "MASE total: 5.677\n"
     ]
    }
   ],
   "source": [
    "model = 'PatchTST'\n",
    "input_factor = 4\n",
    "list_smape, list_mase = [], []\n",
    "for freq in ['Hourly','Daily','Weekly','Monthly','Quarterly','Yearly']:\n",
    "    if (model in ['VanillaTransformer','Autoformer'] and freq == 'Hourly') or (model in ['FEDformer','PatchTST'] and freq == 'Daily'):\n",
    "        input_factor = 2\n",
    "    else:\n",
    "        input_factor = 4\n",
    "\n",
    "    if model == 'Naive':\n",
    "        f = f'./results/{freq}_{model}1_metrics_table.json'\n",
    "    else:\n",
    "        f = f'./results/{freq}_{model}{input_factor}_TF_metrics_table.json'\n",
    "    \n",
    "    metrics_table = json.load(open(f))\n",
    "    print(f'sMAPE {freq}:',np.round(np.mean(metrics_table['smape']),3))\n",
    "    print(f'MASE {freq}:', np.round(np.mean(metrics_table['mase']),3)) \n",
    "    list_smape += metrics_table['smape']\n",
    "    list_mase += metrics_table['mase']\n",
    "    print()\n",
    "\n",
    "smape_total = np.round(np.mean(list_smape, dtype=float), 3)\n",
    "mase_total = np.round(np.mean(list_mase, dtype=float), 3)\n",
    "print(f'sMAPE total: {smape_total}')\n",
    "print(f'MASE total: {mase_total}')"
   ]
  },
  {
   "cell_type": "markdown",
   "metadata": {},
   "source": [
    "OWA"
   ]
  },
  {
   "cell_type": "code",
   "execution_count": null,
   "metadata": {},
   "outputs": [],
   "source": []
  },
  {
   "cell_type": "code",
   "execution_count": null,
   "metadata": {},
   "outputs": [],
   "source": []
  },
  {
   "cell_type": "code",
   "execution_count": 2,
   "metadata": {},
   "outputs": [
    {
     "name": "stdout",
     "output_type": "stream",
     "text": [
      "./results/InformerSmall/Weekly_InformerSmall_metrics_table.json\n"
     ]
    },
    {
     "ename": "FileNotFoundError",
     "evalue": "[Errno 2] No such file or directory: './results/InformerSmall/Weekly_InformerSmall_metrics_table.json'",
     "output_type": "error",
     "traceback": [
      "\u001b[0;31m---------------------------------------------------------------------------\u001b[0m",
      "\u001b[0;31mFileNotFoundError\u001b[0m                         Traceback (most recent call last)",
      "Cell \u001b[0;32mIn[2], line 11\u001b[0m\n\u001b[1;32m      9\u001b[0m f \u001b[38;5;241m=\u001b[39m \u001b[38;5;124mf\u001b[39m\u001b[38;5;124m'\u001b[39m\u001b[38;5;124m./results/\u001b[39m\u001b[38;5;132;01m{\u001b[39;00mmodel\u001b[38;5;132;01m}\u001b[39;00m\u001b[38;5;124m/\u001b[39m\u001b[38;5;132;01m{\u001b[39;00mfreq\u001b[38;5;132;01m}\u001b[39;00m\u001b[38;5;124m_\u001b[39m\u001b[38;5;132;01m{\u001b[39;00mmodel\u001b[38;5;132;01m}\u001b[39;00m\u001b[38;5;124m_metrics_table.json\u001b[39m\u001b[38;5;124m'\u001b[39m\n\u001b[1;32m     10\u001b[0m \u001b[38;5;28mprint\u001b[39m(f)\n\u001b[0;32m---> 11\u001b[0m metrics_table \u001b[38;5;241m=\u001b[39m json\u001b[38;5;241m.\u001b[39mload(\u001b[38;5;28;43mopen\u001b[39;49m\u001b[43m(\u001b[49m\u001b[43mf\u001b[49m\u001b[43m)\u001b[49m)\n\u001b[1;32m     12\u001b[0m \u001b[38;5;66;03m# display(pd.DataFrame(metrics_table).head(10))\u001b[39;00m\n\u001b[1;32m     14\u001b[0m metrics_dict \u001b[38;5;241m=\u001b[39m {\n\u001b[1;32m     15\u001b[0m     \u001b[38;5;124m'\u001b[39m\u001b[38;5;124msmape_mean\u001b[39m\u001b[38;5;124m'\u001b[39m: np\u001b[38;5;241m.\u001b[39mround(np\u001b[38;5;241m.\u001b[39mmean(metrics_table[\u001b[38;5;124m'\u001b[39m\u001b[38;5;124msmape\u001b[39m\u001b[38;5;124m'\u001b[39m], dtype\u001b[38;5;241m=\u001b[39m\u001b[38;5;28mfloat\u001b[39m), \u001b[38;5;241m3\u001b[39m), \n\u001b[1;32m     16\u001b[0m     \u001b[38;5;124m'\u001b[39m\u001b[38;5;124mmase_mean\u001b[39m\u001b[38;5;124m'\u001b[39m:  np\u001b[38;5;241m.\u001b[39mround(np\u001b[38;5;241m.\u001b[39mmean(metrics_table[\u001b[38;5;124m'\u001b[39m\u001b[38;5;124mmase\u001b[39m\u001b[38;5;124m'\u001b[39m], dtype\u001b[38;5;241m=\u001b[39m\u001b[38;5;28mfloat\u001b[39m), \u001b[38;5;241m3\u001b[39m),\n\u001b[0;32m   (...)\u001b[0m\n\u001b[1;32m     19\u001b[0m     \u001b[38;5;124m'\u001b[39m\u001b[38;5;124mmase_std\u001b[39m\u001b[38;5;124m'\u001b[39m:   np\u001b[38;5;241m.\u001b[39mround(np\u001b[38;5;241m.\u001b[39mstd(metrics_table[\u001b[38;5;124m'\u001b[39m\u001b[38;5;124mmase\u001b[39m\u001b[38;5;124m'\u001b[39m], dtype\u001b[38;5;241m=\u001b[39m\u001b[38;5;28mfloat\u001b[39m), \u001b[38;5;241m3\u001b[39m),\n\u001b[1;32m     20\u001b[0m }\n",
      "File \u001b[0;32m~/miniconda3/envs/tst/lib/python3.12/site-packages/IPython/core/interactiveshell.py:324\u001b[0m, in \u001b[0;36m_modified_open\u001b[0;34m(file, *args, **kwargs)\u001b[0m\n\u001b[1;32m    317\u001b[0m \u001b[38;5;28;01mif\u001b[39;00m file \u001b[38;5;129;01min\u001b[39;00m {\u001b[38;5;241m0\u001b[39m, \u001b[38;5;241m1\u001b[39m, \u001b[38;5;241m2\u001b[39m}:\n\u001b[1;32m    318\u001b[0m     \u001b[38;5;28;01mraise\u001b[39;00m \u001b[38;5;167;01mValueError\u001b[39;00m(\n\u001b[1;32m    319\u001b[0m         \u001b[38;5;124mf\u001b[39m\u001b[38;5;124m\"\u001b[39m\u001b[38;5;124mIPython won\u001b[39m\u001b[38;5;124m'\u001b[39m\u001b[38;5;124mt let you open fd=\u001b[39m\u001b[38;5;132;01m{\u001b[39;00mfile\u001b[38;5;132;01m}\u001b[39;00m\u001b[38;5;124m by default \u001b[39m\u001b[38;5;124m\"\u001b[39m\n\u001b[1;32m    320\u001b[0m         \u001b[38;5;124m\"\u001b[39m\u001b[38;5;124mas it is likely to crash IPython. If you know what you are doing, \u001b[39m\u001b[38;5;124m\"\u001b[39m\n\u001b[1;32m    321\u001b[0m         \u001b[38;5;124m\"\u001b[39m\u001b[38;5;124myou can use builtins\u001b[39m\u001b[38;5;124m'\u001b[39m\u001b[38;5;124m open.\u001b[39m\u001b[38;5;124m\"\u001b[39m\n\u001b[1;32m    322\u001b[0m     )\n\u001b[0;32m--> 324\u001b[0m \u001b[38;5;28;01mreturn\u001b[39;00m \u001b[43mio_open\u001b[49m\u001b[43m(\u001b[49m\u001b[43mfile\u001b[49m\u001b[43m,\u001b[49m\u001b[43m \u001b[49m\u001b[38;5;241;43m*\u001b[39;49m\u001b[43margs\u001b[49m\u001b[43m,\u001b[49m\u001b[43m \u001b[49m\u001b[38;5;241;43m*\u001b[39;49m\u001b[38;5;241;43m*\u001b[39;49m\u001b[43mkwargs\u001b[49m\u001b[43m)\u001b[49m\n",
      "\u001b[0;31mFileNotFoundError\u001b[0m: [Errno 2] No such file or directory: './results/InformerSmall/Weekly_InformerSmall_metrics_table.json'"
     ]
    }
   ],
   "source": [
    "\n",
    "\n",
    "model = 'InformerSmall'\n",
    "freq = 'Weekly'\n",
    "\n",
    "f = f'./results/{model}/{freq}_{model}_metrics_table.json'\n",
    "print(f)\n",
    "metrics_table = json.load(open(f))\n",
    "# display(pd.DataFrame(metrics_table).head(10))\n",
    "\n",
    "metrics_dict = {\n",
    "    'smape_mean': np.round(np.mean(metrics_table['smape'], dtype=float), 3), \n",
    "    'mase_mean':  np.round(np.mean(metrics_table['mase'], dtype=float), 3),\n",
    "    #\n",
    "    'smape_std':  np.round(np.std(metrics_table['smape'], dtype=float), 3),\n",
    "    'mase_std':   np.round(np.std(metrics_table['mase'], dtype=float), 3),\n",
    "}\n",
    "print('Resuts:')\n",
    "for k, v in metrics_dict.items(): print(f'      {k}: {v}')\n"
   ]
  }
 ],
 "metadata": {
  "kernelspec": {
   "display_name": "tst",
   "language": "python",
   "name": "python3"
  },
  "language_info": {
   "codemirror_mode": {
    "name": "ipython",
    "version": 3
   },
   "file_extension": ".py",
   "mimetype": "text/x-python",
   "name": "python",
   "nbconvert_exporter": "python",
   "pygments_lexer": "ipython3",
   "version": "3.12.2"
  }
 },
 "nbformat": 4,
 "nbformat_minor": 2
}
