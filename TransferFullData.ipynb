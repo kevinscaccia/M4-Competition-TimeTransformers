{
 "cells": [
  {
   "cell_type": "code",
   "execution_count": 1,
   "metadata": {},
   "outputs": [],
   "source": [
    "# python\n",
    "import numpy as np\n",
    "import pandas as pd\n",
    "# local\n",
    "from utils.m4 import smape, mase, M4DatasetGenerator\n",
    "from utils.ml import print_num_weights\n",
    "from utils.transformers import get_model\n",
    "# Neural models\n",
    "from neuralforecast.core import NeuralForecast\n",
    "from neuralforecast.models import VanillaTransformer, Informer, Autoformer, FEDformer, PatchTST\n"
   ]
  },
  {
   "cell_type": "markdown",
   "metadata": {},
   "source": [
    "## Test Transfered Models"
   ]
  },
  {
   "cell_type": "code",
   "execution_count": 2,
   "metadata": {},
   "outputs": [
    {
     "name": "stderr",
     "output_type": "stream",
     "text": [
      "Seed set to 1\n"
     ]
    },
    {
     "name": "stdout",
     "output_type": "stream",
     "text": [
      "Predicting DataLoader 0: 100%|██████████| 391/391 [00:24<00:00, 15.94it/s]\n"
     ]
    }
   ],
   "source": [
    "model_name = 'VanillaTransformer'\n",
    "input_factor = 1\n",
    "iter = 0\n",
    "\n",
    "train_all_df = pd.read_parquet('train_all_df.parquet')\n",
    "nf = NeuralForecast.load(path=f'./trained_models/{model_name}{input_factor}_iter{iter}/')\n",
    "pred_y_all_predictions = nf.predict(train_all_df)"
   ]
  },
  {
   "cell_type": "code",
   "execution_count": 5,
   "metadata": {},
   "outputs": [
    {
     "name": "stdout",
     "output_type": "stream",
     "text": [
      "Loading M4 Data...\n",
      "Loaded:\n",
      "    => Hourly has 414 series\n",
      "Hourly\n",
      "      smape_mean: 33.956\n",
      "      mase_mean: 10.07\n",
      "Loading M4 Data...\n",
      "Loaded:\n",
      "    => Daily has 4227 series\n",
      "Daily\n",
      "      smape_mean: 2.993\n",
      "      mase_mean: 3.186\n",
      "Loading M4 Data...\n",
      "Loaded:\n",
      "    => Weekly has 359 series\n",
      "Weekly\n",
      "      smape_mean: 8.281\n",
      "      mase_mean: 2.359\n",
      "Loading M4 Data...\n",
      "Loaded:\n",
      "    => Monthly has 48000 series\n"
     ]
    }
   ],
   "source": [
    "full_smapes = []\n",
    "full_mases = []\n",
    "for run_sp in ['Hourly', 'Daily', 'Weekly', 'Monthly', 'Quarterly', 'Yearly']:\n",
    "    m4_data = M4DatasetGenerator([run_sp])\n",
    "    #\n",
    "    metrics_table = {'serie_id':list(),'smape':list(),'mase':list()}\n",
    "\n",
    "    for train_serie, test_serie, serie_id, fh, freq, serie_sp in m4_data.get(random=False):    \n",
    "        pred_y = pred_y_all_predictions.loc[serie_id][model_name].values\n",
    "        #\n",
    "        pred_y = pred_y[:fh] # transfered window is less or equal\n",
    "        #\n",
    "        serie_smape = smape(test_serie, pred_y)*100\n",
    "        serie_mase = mase(train_serie, test_serie, pred_y, freq)\n",
    "        #\n",
    "        metrics_table['serie_id'].append(serie_id)\n",
    "        metrics_table['smape'].append(float(serie_smape))\n",
    "        metrics_table['mase'].append(float(serie_mase))\n",
    "        full_smapes.append(float(serie_smape))\n",
    "        full_mases.append(float(serie_mase))\n",
    "\n",
    "    metrics_dict = {\n",
    "        'smape_mean': np.round(np.mean(metrics_table['smape'], dtype=float), 3), \n",
    "        'mase_mean':  np.round(np.mean(metrics_table['mase'], dtype=float), 3),\n",
    "    }\n",
    "    print(run_sp)\n",
    "    for k, v in metrics_dict.items(): print(f'      {k}: {v}')\n"
   ]
  },
  {
   "cell_type": "markdown",
   "metadata": {},
   "source": [
    "## Métricas finais (Todos os periodos)"
   ]
  },
  {
   "cell_type": "code",
   "execution_count": 4,
   "metadata": {},
   "outputs": [
    {
     "name": "stdout",
     "output_type": "stream",
     "text": [
      "      smape_mean: 33.956\n",
      "      mase_mean: 10.07\n"
     ]
    }
   ],
   "source": [
    "metrics_dict = {\n",
    "        'smape_mean': np.round(np.mean(full_smapes, dtype=float), 3), \n",
    "        'mase_mean':  np.round(np.mean(full_mases, dtype=float), 3),\n",
    "    }\n",
    "for k, v in metrics_dict.items(): print(f'      {k}: {v}')"
   ]
  }
 ],
 "metadata": {
  "kernelspec": {
   "display_name": "pytorch",
   "language": "python",
   "name": "python3"
  },
  "language_info": {
   "codemirror_mode": {
    "name": "ipython",
    "version": 3
   },
   "file_extension": ".py",
   "mimetype": "text/x-python",
   "name": "python",
   "nbconvert_exporter": "python",
   "pygments_lexer": "ipython3",
   "version": "3.10.13"
  }
 },
 "nbformat": 4,
 "nbformat_minor": 2
}
